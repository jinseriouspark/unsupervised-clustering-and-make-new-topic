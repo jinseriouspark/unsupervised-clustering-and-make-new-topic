{
 "cells": [
  {
   "cell_type": "code",
   "execution_count": null,
   "id": "a8067d0a",
   "metadata": {},
   "outputs": [],
   "source": [
    "# 01 get book data\n",
    "- 목적 : 구글 book api 를 사용하여, 카테고리별 책 제목과 설명 데이터를 확보한다\n",
    "- 진행 방법 : api를 활용하여 데이터 수집\n",
    "- 결과 : 카테고리별 구글 도서 검색 결과 수집\n",
    "    "
   ]
  },
  {
   "cell_type": "code",
   "execution_count": 63,
   "id": "3d81df63",
   "metadata": {
    "scrolled": true
   },
   "outputs": [],
   "source": [
    "#!pip install --upgrade google-api-python-client google-auth-httplib2 google-auth-oauthlib"
   ]
  },
  {
   "cell_type": "code",
   "execution_count": 128,
   "id": "d46d168b",
   "metadata": {},
   "outputs": [],
   "source": [
    "import sys\n",
    "sys.path.append('../')\n",
    "import os\n",
    "os.getcwd()\n",
    "from tqdm import tqdm"
   ]
  },
  {
   "cell_type": "code",
   "execution_count": 5,
   "id": "d146f2c4",
   "metadata": {},
   "outputs": [],
   "source": [
    "from urllib.request import urlopen\n",
    "import requests\n",
    "import config"
   ]
  },
  {
   "cell_type": "code",
   "execution_count": 8,
   "id": "076c4de8",
   "metadata": {},
   "outputs": [],
   "source": [
    "url = \"https://www.googleapis.com/books/v1/volumes\""
   ]
  },
  {
   "cell_type": "code",
   "execution_count": 36,
   "id": "68cf1da6",
   "metadata": {},
   "outputs": [],
   "source": [
    "query = '건강 피트니스'"
   ]
  },
  {
   "cell_type": "code",
   "execution_count": 142,
   "id": "5370b49f",
   "metadata": {},
   "outputs": [
    {
     "name": "stderr",
     "output_type": "stream",
     "text": [
      "100%|██████████████████████████████████████████████████████████████████████████████████| 37/37 [00:29<00:00,  1.24it/s]\n"
     ]
    }
   ],
   "source": [
    "pre_params = {\n",
    "    'q' : query,\n",
    "    'key' : config.api_key,\n",
    "    'maxResults':40,\n",
    "    'start_index' : 0\n",
    "}\n",
    "\n",
    "pre_response = requests.get(url, params = pre_params)\n",
    "\n",
    "last_index = pre_response.json()['totalItems'] // 40 + 1 # 총 량\n",
    "\n",
    "book_data = {}\n",
    "for index in tqdm(range(last_index)):\n",
    "    params = {\n",
    "        'q' : query,\n",
    "        'key' : config.api_key,\n",
    "        'maxResults':40,\n",
    "        'start_index' : index\n",
    "    }\n",
    "    response = requests.get(url, params = params)\n",
    "    data = response.json()\n",
    "    total_items = data['totalItems']\n",
    "    \n",
    "    for row in data['items']:\n",
    "        if row['etag'] not in book_data:\n",
    "            book_data[row['etag']] = {}\n",
    "            book_data[row['etag']]['cnt'] = 0\n",
    "        else:\n",
    "            book_data[row['etag']]['cnt'] +=1\n",
    "        book_data[row['etag']]['kind'] = row['kind']\n",
    "        book_data[row['etag']]['id'] = row['id']\n",
    "        book_data[row['etag']]['selfLink'] = row['selfLink']\n",
    "        book_data[row['etag']]['title'] = row['volumeInfo']['title'] if 'title' in row['volumeInfo'] else 'none'\n",
    "        book_data[row['etag']]['authors'] = row['volumeInfo']['authors'][0] if 'authors' in row['volumeInfo'] else 'none'\n",
    "        book_data[row['etag']]['publisher'] = row['volumeInfo']['publisher'] if 'publisher' in row['volumeInfo'] else 'none'\n",
    "        book_data[row['etag']]['publishedDate'] = row['volumeInfo']['publishedDate'] if 'publishedDate' in row['volumeInfo'] else 'none'\n",
    "        book_data[row['etag']]['description'] = row['volumeInfo']['description'] if 'description' in row['volumeInfo'] else 'none'\n",
    "        book_data[row['etag']]['printType'] = row['volumeInfo']['printType'] if 'printType' in row['volumeInfo'] else 'none'\n",
    "        book_data[row['etag']]['categories'] = row['volumeInfo']['categories'][0] if 'categories' in row['volumeInfo'] else 'none'"
   ]
  },
  {
   "cell_type": "code",
   "execution_count": 64,
   "id": "5bfc5027",
   "metadata": {},
   "outputs": [],
   "source": [
    "# 전체 카테고리 수집\n",
    "# todo \n",
    "## while \"nextPageToken\" 를 사용해서, 없을 때 까지 request 를 보내고 그 결과를 모두 모아두는 코드 생성하기"
   ]
  },
  {
   "cell_type": "code",
   "execution_count": 87,
   "id": "31c00290",
   "metadata": {},
   "outputs": [],
   "source": [
    "category_list = [\n",
    "    '건강 피트니스',\n",
    "    '건강 정신 신체',\n",
    "    '과학 수학',\n",
    "    '교육',\n",
    "    '로맨스',\n",
    "    '비즈니스 투자',\n",
    "    '소설 문학',\n",
    "    '아동 도서',\n",
    "    '양육 가족',\n",
    "    '여행',\n",
    "    '역사',\n",
    "    '예술 디자인',\n",
    "    '외국어 학습 교재',\n",
    "    '요리 음식 와인',\n",
    "    '자기계발',\n",
    "    '자서전 전기',\n",
    "    '정치 사회 과학',\n",
    "    '종교 영성',\n",
    "    '컴퓨터 및 기술',\n",
    "    'SF 및 판타지',  \n",
    "]"
   ]
  },
  {
   "cell_type": "code",
   "execution_count": 156,
   "id": "6826fd4d",
   "metadata": {},
   "outputs": [
    {
     "name": "stdout",
     "output_type": "stream",
     "text": [
      "건강 피트니스\n"
     ]
    },
    {
     "name": "stderr",
     "output_type": "stream",
     "text": [
      "100%|██████████████████████████████████████████████████████████████████████████████████| 37/37 [00:30<00:00,  1.23it/s]\n"
     ]
    },
    {
     "name": "stdout",
     "output_type": "stream",
     "text": [
      "건강 정신 신체\n"
     ]
    },
    {
     "name": "stderr",
     "output_type": "stream",
     "text": [
      "100%|██████████████████████████████████████████████████████████████████████████████████| 31/31 [00:26<00:00,  1.15it/s]\n"
     ]
    },
    {
     "name": "stdout",
     "output_type": "stream",
     "text": [
      "과학 수학\n"
     ]
    },
    {
     "name": "stderr",
     "output_type": "stream",
     "text": [
      "100%|██████████████████████████████████████████████████████████████████████████████████| 77/77 [01:11<00:00,  1.08it/s]\n"
     ]
    },
    {
     "name": "stdout",
     "output_type": "stream",
     "text": [
      "교육\n"
     ]
    },
    {
     "name": "stderr",
     "output_type": "stream",
     "text": [
      "100%|██████████████████████████████████████████████████████████████████████████████████| 55/55 [00:41<00:00,  1.32it/s]\n"
     ]
    },
    {
     "name": "stdout",
     "output_type": "stream",
     "text": [
      "로맨스\n"
     ]
    },
    {
     "name": "stderr",
     "output_type": "stream",
     "text": [
      "100%|██████████████████████████████████████████████████████████████████████████████████| 63/63 [00:55<00:00,  1.13it/s]\n"
     ]
    },
    {
     "name": "stdout",
     "output_type": "stream",
     "text": [
      "비즈니스 투자\n"
     ]
    },
    {
     "name": "stderr",
     "output_type": "stream",
     "text": [
      "100%|██████████████████████████████████████████████████████████████████████████████████| 40/40 [00:32<00:00,  1.23it/s]\n"
     ]
    },
    {
     "name": "stdout",
     "output_type": "stream",
     "text": [
      "소설 문학\n"
     ]
    },
    {
     "name": "stderr",
     "output_type": "stream",
     "text": [
      "100%|████████████████████████████████████████████████████████████████████████████████| 101/101 [01:38<00:00,  1.03it/s]\n"
     ]
    },
    {
     "name": "stdout",
     "output_type": "stream",
     "text": [
      "아동 도서\n"
     ]
    },
    {
     "name": "stderr",
     "output_type": "stream",
     "text": [
      "100%|██████████████████████████████████████████████████████████████████████████████████| 83/83 [01:26<00:00,  1.05s/it]\n"
     ]
    },
    {
     "name": "stdout",
     "output_type": "stream",
     "text": [
      "양육 가족\n"
     ]
    },
    {
     "name": "stderr",
     "output_type": "stream",
     "text": [
      "100%|██████████████████████████████████████████████████████████████████████████████████| 32/32 [00:24<00:00,  1.31it/s]\n"
     ]
    },
    {
     "name": "stdout",
     "output_type": "stream",
     "text": [
      "여행\n"
     ]
    },
    {
     "name": "stderr",
     "output_type": "stream",
     "text": [
      "100%|██████████████████████████████████████████████████████████████████████████████████| 69/69 [01:07<00:00,  1.02it/s]\n"
     ]
    },
    {
     "name": "stdout",
     "output_type": "stream",
     "text": [
      "역사\n"
     ]
    },
    {
     "name": "stderr",
     "output_type": "stream",
     "text": [
      "100%|██████████████████████████████████████████████████████████████████████████████████| 76/76 [01:02<00:00,  1.22it/s]\n"
     ]
    },
    {
     "name": "stdout",
     "output_type": "stream",
     "text": [
      "예술 디자인\n"
     ]
    },
    {
     "name": "stderr",
     "output_type": "stream",
     "text": [
      "100%|██████████████████████████████████████████████████████████████████████████████████| 54/54 [00:47<00:00,  1.15it/s]\n"
     ]
    },
    {
     "name": "stdout",
     "output_type": "stream",
     "text": [
      "외국어 학습 교재\n"
     ]
    },
    {
     "name": "stderr",
     "output_type": "stream",
     "text": [
      "100%|██████████████████████████████████████████████████████████████████████████████████| 48/48 [00:43<00:00,  1.10it/s]\n"
     ]
    },
    {
     "name": "stdout",
     "output_type": "stream",
     "text": [
      "요리 음식 와인\n"
     ]
    },
    {
     "name": "stderr",
     "output_type": "stream",
     "text": [
      "100%|██████████████████████████████████████████████████████████████████████████████████| 28/28 [00:25<00:00,  1.10it/s]\n"
     ]
    },
    {
     "name": "stdout",
     "output_type": "stream",
     "text": [
      "자기계발\n"
     ]
    },
    {
     "name": "stderr",
     "output_type": "stream",
     "text": [
      " 45%|████████████████████████████████████▋                                             | 30/67 [00:24<00:29,  1.24it/s]\n"
     ]
    },
    {
     "ename": "KeyError",
     "evalue": "'totalItems'",
     "output_type": "error",
     "traceback": [
      "\u001b[1;31m---------------------------------------------------------------------------\u001b[0m",
      "\u001b[1;31mKeyError\u001b[0m                                  Traceback (most recent call last)",
      "\u001b[1;32m<ipython-input-156-6e0722813cdf>\u001b[0m in \u001b[0;36m<module>\u001b[1;34m\u001b[0m\n\u001b[0;32m     22\u001b[0m         \u001b[0mresponse\u001b[0m \u001b[1;33m=\u001b[0m \u001b[0mrequests\u001b[0m\u001b[1;33m.\u001b[0m\u001b[0mget\u001b[0m\u001b[1;33m(\u001b[0m\u001b[0murl\u001b[0m\u001b[1;33m,\u001b[0m \u001b[0mparams\u001b[0m \u001b[1;33m=\u001b[0m \u001b[0mparams\u001b[0m\u001b[1;33m)\u001b[0m\u001b[1;33m\u001b[0m\u001b[1;33m\u001b[0m\u001b[0m\n\u001b[0;32m     23\u001b[0m         \u001b[0mdata\u001b[0m \u001b[1;33m=\u001b[0m \u001b[0mresponse\u001b[0m\u001b[1;33m.\u001b[0m\u001b[0mjson\u001b[0m\u001b[1;33m(\u001b[0m\u001b[1;33m)\u001b[0m\u001b[1;33m\u001b[0m\u001b[1;33m\u001b[0m\u001b[0m\n\u001b[1;32m---> 24\u001b[1;33m         \u001b[0mtotal_items\u001b[0m \u001b[1;33m=\u001b[0m \u001b[0mdata\u001b[0m\u001b[1;33m[\u001b[0m\u001b[1;34m'totalItems'\u001b[0m\u001b[1;33m]\u001b[0m\u001b[1;33m\u001b[0m\u001b[1;33m\u001b[0m\u001b[0m\n\u001b[0m\u001b[0;32m     25\u001b[0m \u001b[1;33m\u001b[0m\u001b[0m\n\u001b[0;32m     26\u001b[0m         \u001b[1;32mfor\u001b[0m \u001b[0mrow\u001b[0m \u001b[1;32min\u001b[0m \u001b[0mdata\u001b[0m\u001b[1;33m[\u001b[0m\u001b[1;34m'items'\u001b[0m\u001b[1;33m]\u001b[0m\u001b[1;33m:\u001b[0m\u001b[1;33m\u001b[0m\u001b[1;33m\u001b[0m\u001b[0m\n",
      "\u001b[1;31mKeyError\u001b[0m: 'totalItems'"
     ]
    }
   ],
   "source": [
    "for query in category_list:\n",
    "    print(query)\n",
    "    pre_params = {\n",
    "    'q' : query,\n",
    "    'key' : config.api_key,\n",
    "    'maxResults':40,\n",
    "    'start_index' : 0\n",
    "    }\n",
    "\n",
    "    pre_response = requests.get(url, params = pre_params)\n",
    "\n",
    "    last_index = pre_response.json()['totalItems'] // 40 + 1 # 총 량\n",
    "\n",
    "    book_data = {}\n",
    "    for index in tqdm(range(last_index)):\n",
    "        params = {\n",
    "            'q' : query,\n",
    "            'key' : config.api_key,\n",
    "            'maxResults':40,\n",
    "            'start_index' : index\n",
    "        }\n",
    "        response = requests.get(url, params = params)\n",
    "        data = response.json()\n",
    "        total_items = data['totalItems']\n",
    "\n",
    "        for row in data['items']:\n",
    "            if row['etag'] not in book_data:\n",
    "                book_data[row['etag']] = {}\n",
    "                book_data[row['etag']]['cnt'] = 0\n",
    "            else:\n",
    "                book_data[row['etag']]['cnt'] +=1\n",
    "            book_data[row['etag']]['kind'] = row['kind']\n",
    "            book_data[row['etag']]['id'] = row['id']\n",
    "            book_data[row['etag']]['selfLink'] = row['selfLink']\n",
    "            book_data[row['etag']]['title'] = row['volumeInfo']['title'] if 'title' in row['volumeInfo'] else 'none'\n",
    "            book_data[row['etag']]['authors'] = row['volumeInfo']['authors'][0] if 'authors' in row['volumeInfo'] else 'none'\n",
    "            book_data[row['etag']]['publisher'] = row['volumeInfo']['publisher'] if 'publisher' in row['volumeInfo'] else 'none'\n",
    "            book_data[row['etag']]['publishedDate'] = row['volumeInfo']['publishedDate'] if 'publishedDate' in row['volumeInfo'] else 'none'\n",
    "            book_data[row['etag']]['description'] = row['volumeInfo']['description'] if 'description' in row['volumeInfo'] else 'none'\n",
    "            book_data[row['etag']]['printType'] = row['volumeInfo']['printType'] if 'printType' in row['volumeInfo'] else 'none'\n",
    "            book_data[row['etag']]['categories'] = row['volumeInfo']['categories'][0] if 'categories' in row['volumeInfo'] else 'none'\n",
    "    \n",
    "    os.makedirs('../result/', exist_ok=True)\n",
    "    temp_result = pd.DataFrame(book_data).T.to_csv(f'../result/data_{query}.csv', index = False)"
   ]
  },
  {
   "cell_type": "code",
   "execution_count": null,
   "id": "e8a9b81e",
   "metadata": {},
   "outputs": [],
   "source": []
  }
 ],
 "metadata": {
  "kernelspec": {
   "display_name": "Python 3",
   "language": "python",
   "name": "python3"
  },
  "language_info": {
   "codemirror_mode": {
    "name": "ipython",
    "version": 3
   },
   "file_extension": ".py",
   "mimetype": "text/x-python",
   "name": "python",
   "nbconvert_exporter": "python",
   "pygments_lexer": "ipython3",
   "version": "3.8.8"
  }
 },
 "nbformat": 4,
 "nbformat_minor": 5
}
